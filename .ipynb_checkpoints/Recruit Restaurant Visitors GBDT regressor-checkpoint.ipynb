{
 "cells": [
  {
   "cell_type": "markdown",
   "metadata": {},
   "source": [
    "    air_reserve: air_store_id, visit_datetime, reserve_datetime, reserve_visitors\n",
    "    date_info: calendar, day_of_week, holiday_flg\n",
    "    air_store_info: air_stored_id, air_genre_name, air_area_name, lat, long\n",
    "    air_visit_data: visit_date, air_store_id, #vistors"
   ]
  },
  {
   "cell_type": "code",
   "execution_count": 1,
   "metadata": {
    "collapsed": true
   },
   "outputs": [],
   "source": [
    "import xgboost"
   ]
  },
  {
   "cell_type": "code",
   "execution_count": 3,
   "metadata": {},
   "outputs": [],
   "source": [
    "import pandas as pd"
   ]
  },
  {
   "cell_type": "code",
   "execution_count": 23,
   "metadata": {},
   "outputs": [],
   "source": [
    "import numpy as np\n",
    ">>> from sklearn.metrics import mean_squared_error\n",
    ">>> from sklearn.datasets import load_boston\n",
    ">>> from sklearn.ensemble import GradientBoostingRegressor\n",
    "from sklearn.cross_validation import train_test_split\n",
    "from sklearn.preprocessing import OneHotEncoder"
   ]
  },
  {
   "cell_type": "code",
   "execution_count": 16,
   "metadata": {},
   "outputs": [],
   "source": [
    "X = load_boston().data\n",
    "y = load_boston().target\n",
    "X_train, X_test, y_train, y_test = train_test_split(X,y,test_size=0.2)"
   ]
  },
  {
   "cell_type": "code",
   "execution_count": 17,
   "metadata": {
    "collapsed": true
   },
   "outputs": [],
   "source": [
    "est = GradientBoostingRegressor(n_estimators=100, learning_rate=0.1,\n",
    "...     max_depth=1, random_state=0, loss='ls').fit(X_train, y_train)"
   ]
  },
  {
   "cell_type": "code",
   "execution_count": 18,
   "metadata": {},
   "outputs": [
    {
     "data": {
      "text/plain": [
       "0.8387733602191112"
      ]
     },
     "execution_count": 18,
     "metadata": {},
     "output_type": "execute_result"
    }
   ],
   "source": [
    "est.score(X_test,y_test)"
   ]
  },
  {
   "cell_type": "code",
   "execution_count": 21,
   "metadata": {},
   "outputs": [],
   "source": [
    "air_reserve_pd = pd.read_csv('all/air_reserve.csv')\n",
    "air_store_info_pd = pd.read_csv('all/air_store_info.csv')\n",
    "air_visit_data_pd = pd.read_csv('all/air_visit_data.csv')\n",
    "date_info_pd = pd.read_csv('all/date_info.csv')"
   ]
  },
  {
   "cell_type": "code",
   "execution_count": 107,
   "metadata": {
    "collapsed": true
   },
   "outputs": [],
   "source": [
    "agg_actual_vis_v2 = pd.read_csv('all/agg_with_actual_vis_v2.csv')\n",
    "agg_actual_vis = pd.read_csv('all/agg_with_actual_vis_clustered.csv')\n",
    "agg_actual_vis_uncleansed = pd.read_csv('all/agg_with_actual_vis.csv')"
   ]
  },
  {
   "cell_type": "code",
   "execution_count": 108,
   "metadata": {},
   "outputs": [],
   "source": [
    "#(agg_actual_vis.get_dummies(['air_genre_name'])\n",
    "air_genre = pd.get_dummies(agg_actual_vis['air_genre_name'])"
   ]
  },
  {
   "cell_type": "code",
   "execution_count": null,
   "metadata": {
    "collapsed": true
   },
   "outputs": [],
   "source": [
    "\\"
   ]
  },
  {
   "cell_type": "code",
   "execution_count": 109,
   "metadata": {
    "collapsed": true
   },
   "outputs": [],
   "source": [
    "agg_actual_vis = pd.concat([agg_actual_vis, air_genre], axis=1)"
   ]
  },
  {
   "cell_type": "code",
   "execution_count": 110,
   "metadata": {},
   "outputs": [
    {
     "data": {
      "text/html": [
       "<div>\n",
       "<style scoped>\n",
       "    .dataframe tbody tr th:only-of-type {\n",
       "        vertical-align: middle;\n",
       "    }\n",
       "\n",
       "    .dataframe tbody tr th {\n",
       "        vertical-align: top;\n",
       "    }\n",
       "\n",
       "    .dataframe thead th {\n",
       "        text-align: right;\n",
       "    }\n",
       "</style>\n",
       "<table border=\"1\" class=\"dataframe\">\n",
       "  <thead>\n",
       "    <tr style=\"text-align: right;\">\n",
       "      <th></th>\n",
       "      <th>air_store_id</th>\n",
       "      <th>air_genre_name</th>\n",
       "      <th>air_area_name</th>\n",
       "      <th>latitude</th>\n",
       "      <th>longitude</th>\n",
       "      <th>visit_date</th>\n",
       "      <th>reserve_visitors</th>\n",
       "      <th>day_of_week</th>\n",
       "      <th>holiday_flg</th>\n",
       "      <th>visitors</th>\n",
       "      <th>...</th>\n",
       "      <th>Dining bar</th>\n",
       "      <th>International cuisine</th>\n",
       "      <th>Italian/French</th>\n",
       "      <th>Izakaya</th>\n",
       "      <th>Japanese food</th>\n",
       "      <th>Karaoke/Party</th>\n",
       "      <th>Okonomiyaki/Monja/Teppanyaki</th>\n",
       "      <th>Other</th>\n",
       "      <th>Western food</th>\n",
       "      <th>Yakiniku/Korean food</th>\n",
       "    </tr>\n",
       "  </thead>\n",
       "  <tbody>\n",
       "    <tr>\n",
       "      <th>0</th>\n",
       "      <td>air_00a91d42b08b08d9</td>\n",
       "      <td>Italian/French</td>\n",
       "      <td>T?ky?-to Chiyoda-ku Kudanminami</td>\n",
       "      <td>-0.152155</td>\n",
       "      <td>0.681047</td>\n",
       "      <td>10/31/2016 12:00:00 AM</td>\n",
       "      <td>-0.500620</td>\n",
       "      <td>Monday</td>\n",
       "      <td>-0.245756</td>\n",
       "      <td>-0.032074</td>\n",
       "      <td>...</td>\n",
       "      <td>0</td>\n",
       "      <td>0</td>\n",
       "      <td>1</td>\n",
       "      <td>0</td>\n",
       "      <td>0</td>\n",
       "      <td>0</td>\n",
       "      <td>0</td>\n",
       "      <td>0</td>\n",
       "      <td>0</td>\n",
       "      <td>0</td>\n",
       "    </tr>\n",
       "    <tr>\n",
       "      <th>1</th>\n",
       "      <td>air_00a91d42b08b08d9</td>\n",
       "      <td>Italian/French</td>\n",
       "      <td>T?ky?-to Chiyoda-ku Kudanminami</td>\n",
       "      <td>-0.152155</td>\n",
       "      <td>0.681047</td>\n",
       "      <td>12/5/2016 12:00:00 AM</td>\n",
       "      <td>-0.205621</td>\n",
       "      <td>Monday</td>\n",
       "      <td>-0.245756</td>\n",
       "      <td>0.347150</td>\n",
       "      <td>...</td>\n",
       "      <td>0</td>\n",
       "      <td>0</td>\n",
       "      <td>1</td>\n",
       "      <td>0</td>\n",
       "      <td>0</td>\n",
       "      <td>0</td>\n",
       "      <td>0</td>\n",
       "      <td>0</td>\n",
       "      <td>0</td>\n",
       "      <td>0</td>\n",
       "    </tr>\n",
       "    <tr>\n",
       "      <th>2</th>\n",
       "      <td>air_00a91d42b08b08d9</td>\n",
       "      <td>Italian/French</td>\n",
       "      <td>T?ky?-to Chiyoda-ku Kudanminami</td>\n",
       "      <td>-0.152155</td>\n",
       "      <td>0.681047</td>\n",
       "      <td>12/14/2016 12:00:00 AM</td>\n",
       "      <td>0.173664</td>\n",
       "      <td>Wednesday</td>\n",
       "      <td>-0.245756</td>\n",
       "      <td>0.184626</td>\n",
       "      <td>...</td>\n",
       "      <td>0</td>\n",
       "      <td>0</td>\n",
       "      <td>1</td>\n",
       "      <td>0</td>\n",
       "      <td>0</td>\n",
       "      <td>0</td>\n",
       "      <td>0</td>\n",
       "      <td>0</td>\n",
       "      <td>0</td>\n",
       "      <td>0</td>\n",
       "    </tr>\n",
       "    <tr>\n",
       "      <th>3</th>\n",
       "      <td>air_00a91d42b08b08d9</td>\n",
       "      <td>Italian/French</td>\n",
       "      <td>T?ky?-to Chiyoda-ku Kudanminami</td>\n",
       "      <td>-0.152155</td>\n",
       "      <td>0.681047</td>\n",
       "      <td>12/17/2016 12:00:00 AM</td>\n",
       "      <td>-0.500620</td>\n",
       "      <td>Saturday</td>\n",
       "      <td>-0.245756</td>\n",
       "      <td>-0.519647</td>\n",
       "      <td>...</td>\n",
       "      <td>0</td>\n",
       "      <td>0</td>\n",
       "      <td>1</td>\n",
       "      <td>0</td>\n",
       "      <td>0</td>\n",
       "      <td>0</td>\n",
       "      <td>0</td>\n",
       "      <td>0</td>\n",
       "      <td>0</td>\n",
       "      <td>0</td>\n",
       "    </tr>\n",
       "    <tr>\n",
       "      <th>4</th>\n",
       "      <td>air_00a91d42b08b08d9</td>\n",
       "      <td>Italian/French</td>\n",
       "      <td>T?ky?-to Chiyoda-ku Kudanminami</td>\n",
       "      <td>-0.152155</td>\n",
       "      <td>0.681047</td>\n",
       "      <td>12/20/2016 12:00:00 AM</td>\n",
       "      <td>-0.416335</td>\n",
       "      <td>Tuesday</td>\n",
       "      <td>-0.245756</td>\n",
       "      <td>0.563849</td>\n",
       "      <td>...</td>\n",
       "      <td>0</td>\n",
       "      <td>0</td>\n",
       "      <td>1</td>\n",
       "      <td>0</td>\n",
       "      <td>0</td>\n",
       "      <td>0</td>\n",
       "      <td>0</td>\n",
       "      <td>0</td>\n",
       "      <td>0</td>\n",
       "      <td>0</td>\n",
       "    </tr>\n",
       "  </tbody>\n",
       "</table>\n",
       "<p>5 rows × 27 columns</p>\n",
       "</div>"
      ],
      "text/plain": [
       "           air_store_id  air_genre_name                    air_area_name  \\\n",
       "0  air_00a91d42b08b08d9  Italian/French  T?ky?-to Chiyoda-ku Kudanminami   \n",
       "1  air_00a91d42b08b08d9  Italian/French  T?ky?-to Chiyoda-ku Kudanminami   \n",
       "2  air_00a91d42b08b08d9  Italian/French  T?ky?-to Chiyoda-ku Kudanminami   \n",
       "3  air_00a91d42b08b08d9  Italian/French  T?ky?-to Chiyoda-ku Kudanminami   \n",
       "4  air_00a91d42b08b08d9  Italian/French  T?ky?-to Chiyoda-ku Kudanminami   \n",
       "\n",
       "   latitude  longitude              visit_date  reserve_visitors day_of_week  \\\n",
       "0 -0.152155   0.681047  10/31/2016 12:00:00 AM         -0.500620      Monday   \n",
       "1 -0.152155   0.681047   12/5/2016 12:00:00 AM         -0.205621      Monday   \n",
       "2 -0.152155   0.681047  12/14/2016 12:00:00 AM          0.173664   Wednesday   \n",
       "3 -0.152155   0.681047  12/17/2016 12:00:00 AM         -0.500620    Saturday   \n",
       "4 -0.152155   0.681047  12/20/2016 12:00:00 AM         -0.416335     Tuesday   \n",
       "\n",
       "   holiday_flg  visitors          ...           Dining bar  \\\n",
       "0    -0.245756 -0.032074          ...                    0   \n",
       "1    -0.245756  0.347150          ...                    0   \n",
       "2    -0.245756  0.184626          ...                    0   \n",
       "3    -0.245756 -0.519647          ...                    0   \n",
       "4    -0.245756  0.563849          ...                    0   \n",
       "\n",
       "   International cuisine  Italian/French  Izakaya  Japanese food  \\\n",
       "0                      0               1        0              0   \n",
       "1                      0               1        0              0   \n",
       "2                      0               1        0              0   \n",
       "3                      0               1        0              0   \n",
       "4                      0               1        0              0   \n",
       "\n",
       "   Karaoke/Party  Okonomiyaki/Monja/Teppanyaki  Other  Western food  \\\n",
       "0              0                             0      0             0   \n",
       "1              0                             0      0             0   \n",
       "2              0                             0      0             0   \n",
       "3              0                             0      0             0   \n",
       "4              0                             0      0             0   \n",
       "\n",
       "   Yakiniku/Korean food  \n",
       "0                     0  \n",
       "1                     0  \n",
       "2                     0  \n",
       "3                     0  \n",
       "4                     0  \n",
       "\n",
       "[5 rows x 27 columns]"
      ]
     },
     "execution_count": 110,
     "metadata": {},
     "output_type": "execute_result"
    }
   ],
   "source": [
    "agg_actual_vis.head()"
   ]
  },
  {
   "cell_type": "code",
   "execution_count": 111,
   "metadata": {
    "collapsed": true
   },
   "outputs": [],
   "source": [
    "agg_actual_vis['unclean_reserve_visitors'] = agg_actual_vis_uncleansed['reserve_visitors']\n",
    "agg_actual_vis['unclean_visitors'] = agg_actual_vis_uncleansed['visitors']"
   ]
  },
  {
   "cell_type": "code",
   "execution_count": null,
   "metadata": {
    "collapsed": true
   },
   "outputs": [],
   "source": []
  },
  {
   "cell_type": "code",
   "execution_count": 112,
   "metadata": {},
   "outputs": [],
   "source": [
    "from datetime import datetime\n",
    "agg_actual_vis['visit_dt'] = agg_actual_vis['visit_date'].apply(lambda x: datetime.strptime(x, \"%m/%d/%Y %H:%M:%S %p\" ))"
   ]
  },
  {
   "cell_type": "code",
   "execution_count": 113,
   "metadata": {
    "collapsed": true
   },
   "outputs": [],
   "source": [
    "agg_actual_vis['visit_month'] = agg_actual_vis['visit_dt'].apply(lambda x: x.month)\n",
    "agg_actual_vis['visit_weekday'] = agg_actual_vis['visit_dt'].apply(lambda x: x.weekday())\n"
   ]
  },
  {
   "cell_type": "code",
   "execution_count": 114,
   "metadata": {},
   "outputs": [
    {
     "data": {
      "text/plain": [
       "Index(['air_store_id', 'air_genre_name', 'air_area_name', 'latitude',\n",
       "       'longitude', 'visit_date', 'reserve_visitors', 'day_of_week',\n",
       "       'holiday_flg', 'visitors', 'Assignments',\n",
       "       'DistancesToClusterCenter no.0', 'DistancesToClusterCenter no.1',\n",
       "       'Asian', 'Bar/Cocktail', 'Cafe/Sweets', 'Creative cuisine',\n",
       "       'Dining bar', 'International cuisine', 'Italian/French', 'Izakaya',\n",
       "       'Japanese food', 'Karaoke/Party', 'Okonomiyaki/Monja/Teppanyaki',\n",
       "       'Other', 'Western food', 'Yakiniku/Korean food',\n",
       "       'unclean_reserve_visitors', 'unclean_visitors', 'visit_dt',\n",
       "       'visit_month', 'visit_weekday'],\n",
       "      dtype='object')"
      ]
     },
     "execution_count": 114,
     "metadata": {},
     "output_type": "execute_result"
    }
   ],
   "source": [
    "agg_actual_vis.columns"
   ]
  },
  {
   "cell_type": "code",
   "execution_count": 126,
   "metadata": {},
   "outputs": [
    {
     "data": {
      "text/plain": [
       "26.0"
      ]
     },
     "execution_count": 126,
     "metadata": {},
     "output_type": "execute_result"
    }
   ],
   "source": [
    "input_features = ['latitude',\n",
    "       'longitude', 'unclean_reserve_visitors',\n",
    "       'holiday_flg',\n",
    "       'Assignments',\n",
    "       'Asian', 'Bar/Cocktail', 'Cafe/Sweets', 'Creative cuisine',\n",
    "       'Dining bar', 'International cuisine', 'Italian/French', 'Izakaya',\n",
    "       'Japanese food', 'Karaoke/Party', 'Okonomiyaki/Monja/Teppanyaki',\n",
    "       'Other', 'Western food', 'Yakiniku/Korean food',\n",
    "       'visit_month', 'visit_weekday']\n",
    "agg_actual_vis[input_features].iloc[0]\n",
    "agg_actual_vis['unclean_visitors'].iloc[0]"
   ]
  },
  {
   "cell_type": "code",
   "execution_count": 127,
   "metadata": {},
   "outputs": [],
   "source": [
    "final_df = agg_actual_vis.dropna()\n",
    "X = final_df[input_features]\n",
    "y = final_df['unclean_visitors']\n",
    "X_train, X_test, y_train, y_test = train_test_split(X,y,test_size=0.2)"
   ]
  },
  {
   "cell_type": "code",
   "execution_count": 128,
   "metadata": {},
   "outputs": [],
   "source": [
    "est = GradientBoostingRegressor(n_estimators=200, learning_rate=0.1,\n",
    "...     max_depth=7, random_state=0, loss='ls').fit(X_train, y_train)"
   ]
  },
  {
   "cell_type": "code",
   "execution_count": 155,
   "metadata": {},
   "outputs": [
    {
     "data": {
      "text/plain": [
       "0.75448448404527957"
      ]
     },
     "execution_count": 155,
     "metadata": {},
     "output_type": "execute_result"
    }
   ],
   "source": [
    "est.score(X_train,y_train)"
   ]
  },
  {
   "cell_type": "code",
   "execution_count": 144,
   "metadata": {},
   "outputs": [
    {
     "data": {
      "text/plain": [
       "0.64925932430400524"
      ]
     },
     "execution_count": 144,
     "metadata": {},
     "output_type": "execute_result"
    }
   ],
   "source": [
    "est.score(X_test,y_test)"
   ]
  },
  {
   "cell_type": "code",
   "execution_count": 145,
   "metadata": {
    "collapsed": true
   },
   "outputs": [],
   "source": [
    "yhat = np.sum((est.predict(X_train) - y_train))/X_train.shape[0]"
   ]
  },
  {
   "cell_type": "code",
   "execution_count": 146,
   "metadata": {},
   "outputs": [
    {
     "data": {
      "text/plain": [
       "-4.7346306743446168e-16"
      ]
     },
     "execution_count": 146,
     "metadata": {},
     "output_type": "execute_result"
    }
   ],
   "source": [
    "yhat"
   ]
  },
  {
   "cell_type": "code",
   "execution_count": 132,
   "metadata": {},
   "outputs": [],
   "source": [
    "final_final_df = final_df.copy()"
   ]
  },
  {
   "cell_type": "code",
   "execution_count": 133,
   "metadata": {},
   "outputs": [],
   "source": [
    "final_final_df[\"yhat_visitors\"] = yhat"
   ]
  },
  {
   "cell_type": "code",
   "execution_count": 134,
   "metadata": {},
   "outputs": [
    {
     "data": {
      "text/plain": [
       "air_store_id                                air_00a91d42b08b08d9\n",
       "air_genre_name                                    Italian/French\n",
       "air_area_name                    T?ky?-to Chiyoda-ku Kudanminami\n",
       "latitude                                               -0.152155\n",
       "longitude                                               0.681047\n",
       "visit_date                                10/31/2016 12:00:00 AM\n",
       "reserve_visitors                                        -0.50062\n",
       "day_of_week                                               Monday\n",
       "holiday_flg                                            -0.245756\n",
       "visitors                                              -0.0320736\n",
       "Assignments                                                    0\n",
       "DistancesToClusterCenter no.0                            1.36128\n",
       "DistancesToClusterCenter no.1                            2.55552\n",
       "Asian                                                          0\n",
       "Bar/Cocktail                                                   0\n",
       "Cafe/Sweets                                                    0\n",
       "Creative cuisine                                               0\n",
       "Dining bar                                                     0\n",
       "International cuisine                                          0\n",
       "Italian/French                                                 1\n",
       "Izakaya                                                        0\n",
       "Japanese food                                                  0\n",
       "Karaoke/Party                                                  0\n",
       "Okonomiyaki/Monja/Teppanyaki                                   0\n",
       "Other                                                          0\n",
       "Western food                                                   0\n",
       "Yakiniku/Korean food                                           0\n",
       "unclean_reserve_visitors                                       2\n",
       "unclean_visitors                                              26\n",
       "visit_dt                                     2016-10-31 12:00:00\n",
       "visit_month                                                   10\n",
       "visit_weekday                                                  0\n",
       "yhat_visitors                                                NaN\n",
       "Name: 0, dtype: object"
      ]
     },
     "execution_count": 134,
     "metadata": {},
     "output_type": "execute_result"
    }
   ],
   "source": [
    "final_final_df.iloc[0]"
   ]
  },
  {
   "cell_type": "code",
   "execution_count": 87,
   "metadata": {},
   "outputs": [
    {
     "data": {
      "text/html": [
       "<div>\n",
       "<style scoped>\n",
       "    .dataframe tbody tr th:only-of-type {\n",
       "        vertical-align: middle;\n",
       "    }\n",
       "\n",
       "    .dataframe tbody tr th {\n",
       "        vertical-align: top;\n",
       "    }\n",
       "\n",
       "    .dataframe thead th {\n",
       "        text-align: right;\n",
       "    }\n",
       "</style>\n",
       "<table border=\"1\" class=\"dataframe\">\n",
       "  <thead>\n",
       "    <tr style=\"text-align: right;\">\n",
       "      <th></th>\n",
       "      <th>air_store_id</th>\n",
       "      <th>air_genre_name</th>\n",
       "      <th>air_area_name</th>\n",
       "      <th>latitude</th>\n",
       "      <th>longitude</th>\n",
       "      <th>visit_date</th>\n",
       "      <th>reserve_visitors</th>\n",
       "      <th>day_of_week</th>\n",
       "      <th>holiday_flg</th>\n",
       "      <th>visitors</th>\n",
       "      <th>...</th>\n",
       "      <th>Karaoke/Party</th>\n",
       "      <th>Okonomiyaki/Monja/Teppanyaki</th>\n",
       "      <th>Other</th>\n",
       "      <th>Western food</th>\n",
       "      <th>Yakiniku/Korean food</th>\n",
       "      <th>visit_dt</th>\n",
       "      <th>visit_month</th>\n",
       "      <th>visit_weekday</th>\n",
       "      <th>yhat_visitor</th>\n",
       "      <th>yhat_visitors</th>\n",
       "    </tr>\n",
       "  </thead>\n",
       "  <tbody>\n",
       "    <tr>\n",
       "      <th>0</th>\n",
       "      <td>air_00a91d42b08b08d9</td>\n",
       "      <td>Italian/French</td>\n",
       "      <td>T?ky?-to Chiyoda-ku Kudanminami</td>\n",
       "      <td>-0.152155</td>\n",
       "      <td>0.681047</td>\n",
       "      <td>10/31/2016 12:00:00 AM</td>\n",
       "      <td>-0.500620</td>\n",
       "      <td>Monday</td>\n",
       "      <td>-0.245756</td>\n",
       "      <td>-0.032074</td>\n",
       "      <td>...</td>\n",
       "      <td>0</td>\n",
       "      <td>0</td>\n",
       "      <td>0</td>\n",
       "      <td>0</td>\n",
       "      <td>0</td>\n",
       "      <td>2016-10-31 12:00:00</td>\n",
       "      <td>10</td>\n",
       "      <td>0</td>\n",
       "      <td>-0.438835</td>\n",
       "      <td>-0.438835</td>\n",
       "    </tr>\n",
       "    <tr>\n",
       "      <th>1</th>\n",
       "      <td>air_00a91d42b08b08d9</td>\n",
       "      <td>Italian/French</td>\n",
       "      <td>T?ky?-to Chiyoda-ku Kudanminami</td>\n",
       "      <td>-0.152155</td>\n",
       "      <td>0.681047</td>\n",
       "      <td>12/5/2016 12:00:00 AM</td>\n",
       "      <td>-0.205621</td>\n",
       "      <td>Monday</td>\n",
       "      <td>-0.245756</td>\n",
       "      <td>0.347150</td>\n",
       "      <td>...</td>\n",
       "      <td>0</td>\n",
       "      <td>0</td>\n",
       "      <td>0</td>\n",
       "      <td>0</td>\n",
       "      <td>0</td>\n",
       "      <td>2016-12-05 12:00:00</td>\n",
       "      <td>12</td>\n",
       "      <td>0</td>\n",
       "      <td>-0.588407</td>\n",
       "      <td>-0.588407</td>\n",
       "    </tr>\n",
       "    <tr>\n",
       "      <th>2</th>\n",
       "      <td>air_00a91d42b08b08d9</td>\n",
       "      <td>Italian/French</td>\n",
       "      <td>T?ky?-to Chiyoda-ku Kudanminami</td>\n",
       "      <td>-0.152155</td>\n",
       "      <td>0.681047</td>\n",
       "      <td>12/14/2016 12:00:00 AM</td>\n",
       "      <td>0.173664</td>\n",
       "      <td>Wednesday</td>\n",
       "      <td>-0.245756</td>\n",
       "      <td>0.184626</td>\n",
       "      <td>...</td>\n",
       "      <td>0</td>\n",
       "      <td>0</td>\n",
       "      <td>0</td>\n",
       "      <td>0</td>\n",
       "      <td>0</td>\n",
       "      <td>2016-12-14 12:00:00</td>\n",
       "      <td>12</td>\n",
       "      <td>2</td>\n",
       "      <td>0.120138</td>\n",
       "      <td>0.120138</td>\n",
       "    </tr>\n",
       "    <tr>\n",
       "      <th>3</th>\n",
       "      <td>air_00a91d42b08b08d9</td>\n",
       "      <td>Italian/French</td>\n",
       "      <td>T?ky?-to Chiyoda-ku Kudanminami</td>\n",
       "      <td>-0.152155</td>\n",
       "      <td>0.681047</td>\n",
       "      <td>12/17/2016 12:00:00 AM</td>\n",
       "      <td>-0.500620</td>\n",
       "      <td>Saturday</td>\n",
       "      <td>-0.245756</td>\n",
       "      <td>-0.519647</td>\n",
       "      <td>...</td>\n",
       "      <td>0</td>\n",
       "      <td>0</td>\n",
       "      <td>0</td>\n",
       "      <td>0</td>\n",
       "      <td>0</td>\n",
       "      <td>2016-12-17 12:00:00</td>\n",
       "      <td>12</td>\n",
       "      <td>5</td>\n",
       "      <td>0.633875</td>\n",
       "      <td>0.633875</td>\n",
       "    </tr>\n",
       "    <tr>\n",
       "      <th>4</th>\n",
       "      <td>air_00a91d42b08b08d9</td>\n",
       "      <td>Italian/French</td>\n",
       "      <td>T?ky?-to Chiyoda-ku Kudanminami</td>\n",
       "      <td>-0.152155</td>\n",
       "      <td>0.681047</td>\n",
       "      <td>12/20/2016 12:00:00 AM</td>\n",
       "      <td>-0.416335</td>\n",
       "      <td>Tuesday</td>\n",
       "      <td>-0.245756</td>\n",
       "      <td>0.563849</td>\n",
       "      <td>...</td>\n",
       "      <td>0</td>\n",
       "      <td>0</td>\n",
       "      <td>0</td>\n",
       "      <td>0</td>\n",
       "      <td>0</td>\n",
       "      <td>2016-12-20 12:00:00</td>\n",
       "      <td>12</td>\n",
       "      <td>1</td>\n",
       "      <td>-0.863551</td>\n",
       "      <td>-0.863551</td>\n",
       "    </tr>\n",
       "  </tbody>\n",
       "</table>\n",
       "<p>5 rows × 32 columns</p>\n",
       "</div>"
      ],
      "text/plain": [
       "           air_store_id  air_genre_name                    air_area_name  \\\n",
       "0  air_00a91d42b08b08d9  Italian/French  T?ky?-to Chiyoda-ku Kudanminami   \n",
       "1  air_00a91d42b08b08d9  Italian/French  T?ky?-to Chiyoda-ku Kudanminami   \n",
       "2  air_00a91d42b08b08d9  Italian/French  T?ky?-to Chiyoda-ku Kudanminami   \n",
       "3  air_00a91d42b08b08d9  Italian/French  T?ky?-to Chiyoda-ku Kudanminami   \n",
       "4  air_00a91d42b08b08d9  Italian/French  T?ky?-to Chiyoda-ku Kudanminami   \n",
       "\n",
       "   latitude  longitude              visit_date  reserve_visitors day_of_week  \\\n",
       "0 -0.152155   0.681047  10/31/2016 12:00:00 AM         -0.500620      Monday   \n",
       "1 -0.152155   0.681047   12/5/2016 12:00:00 AM         -0.205621      Monday   \n",
       "2 -0.152155   0.681047  12/14/2016 12:00:00 AM          0.173664   Wednesday   \n",
       "3 -0.152155   0.681047  12/17/2016 12:00:00 AM         -0.500620    Saturday   \n",
       "4 -0.152155   0.681047  12/20/2016 12:00:00 AM         -0.416335     Tuesday   \n",
       "\n",
       "   holiday_flg  visitors      ...        Karaoke/Party  \\\n",
       "0    -0.245756 -0.032074      ...                    0   \n",
       "1    -0.245756  0.347150      ...                    0   \n",
       "2    -0.245756  0.184626      ...                    0   \n",
       "3    -0.245756 -0.519647      ...                    0   \n",
       "4    -0.245756  0.563849      ...                    0   \n",
       "\n",
       "   Okonomiyaki/Monja/Teppanyaki  Other  Western food  Yakiniku/Korean food  \\\n",
       "0                             0      0             0                     0   \n",
       "1                             0      0             0                     0   \n",
       "2                             0      0             0                     0   \n",
       "3                             0      0             0                     0   \n",
       "4                             0      0             0                     0   \n",
       "\n",
       "             visit_dt  visit_month  visit_weekday  yhat_visitor  yhat_visitors  \n",
       "0 2016-10-31 12:00:00           10              0     -0.438835      -0.438835  \n",
       "1 2016-12-05 12:00:00           12              0     -0.588407      -0.588407  \n",
       "2 2016-12-14 12:00:00           12              2      0.120138       0.120138  \n",
       "3 2016-12-17 12:00:00           12              5      0.633875       0.633875  \n",
       "4 2016-12-20 12:00:00           12              1     -0.863551      -0.863551  \n",
       "\n",
       "[5 rows x 32 columns]"
      ]
     },
     "execution_count": 87,
     "metadata": {},
     "output_type": "execute_result"
    }
   ],
   "source": [
    "final_final_df.head()"
   ]
  },
  {
   "cell_type": "code",
   "execution_count": 142,
   "metadata": {},
   "outputs": [
    {
     "data": {
      "image/png": "[encoded data removed]",
      "text/plain": [
       "<matplotlib.figure.Figure at 0x1b03f39ec50>"
      ]
     },
     "metadata": {},
     "output_type": "display_data"
    }
   ],
   "source": [
    "import matplotlib.pyplot as plt\n",
    "feature_importance = est.feature_importances_\n",
    "# make importances relative to max importance\n",
    "feature_importance = 100.0 * (feature_importance / feature_importance.max())\n",
    "sorted_idx = np.argsort(feature_importance)[-15:]\n",
    "pos = np.arange(sorted_idx.shape[0]) + .5\n",
    "plt.subplot(1, 2, 2)\n",
    "plt.barh(pos, feature_importance[sorted_idx], align='center')\n",
    "plt.yticks(pos, X_train.columns.values[sorted_idx])\n",
    "#plt.xlabel('Relative Importance - [{}]'.format(selected_dest_location))\n",
    "#plt.title('Variable Importance - [{}]'.format(selected_dest_location))\n",
    "plt.show()"
   ]
  },
  {
   "cell_type": "code",
   "execution_count": 154,
   "metadata": {
    "scrolled": true
   },
   "outputs": [
    {
     "name": "stdout",
     "output_type": "stream",
     "text": [
      "[ 40.43833447  16.58946472  37.98068483  53.93257188  29.5109625\n",
      "  34.91623482  25.35830749  12.30628467  22.82641202  35.07355977]\n",
      "15832    38.0\n",
      "11877    35.0\n",
      "11745    42.0\n",
      "23614    68.0\n",
      "6551     28.0\n",
      "6998     37.0\n",
      "28525    24.0\n",
      "20333    66.0\n",
      "13915    38.0\n",
      "22674    35.0\n",
      "Name: unclean_visitors, dtype: float64\n"
     ]
    },
    {
     "data": {
      "text/html": [
       "<div>\n",
       "<style scoped>\n",
       "    .dataframe tbody tr th:only-of-type {\n",
       "        vertical-align: middle;\n",
       "    }\n",
       "\n",
       "    .dataframe tbody tr th {\n",
       "        vertical-align: top;\n",
       "    }\n",
       "\n",
       "    .dataframe thead th {\n",
       "        text-align: right;\n",
       "    }\n",
       "</style>\n",
       "<table border=\"1\" class=\"dataframe\">\n",
       "  <thead>\n",
       "    <tr style=\"text-align: right;\">\n",
       "      <th></th>\n",
       "      <th>actual</th>\n",
       "      <th>test</th>\n",
       "    </tr>\n",
       "  </thead>\n",
       "  <tbody>\n",
       "    <tr>\n",
       "      <th>15832</th>\n",
       "      <td>40.438334</td>\n",
       "      <td>38.0</td>\n",
       "    </tr>\n",
       "    <tr>\n",
       "      <th>11877</th>\n",
       "      <td>16.589465</td>\n",
       "      <td>35.0</td>\n",
       "    </tr>\n",
       "    <tr>\n",
       "      <th>11745</th>\n",
       "      <td>37.980685</td>\n",
       "      <td>42.0</td>\n",
       "    </tr>\n",
       "    <tr>\n",
       "      <th>23614</th>\n",
       "      <td>53.932572</td>\n",
       "      <td>68.0</td>\n",
       "    </tr>\n",
       "    <tr>\n",
       "      <th>6551</th>\n",
       "      <td>29.510963</td>\n",
       "      <td>28.0</td>\n",
       "    </tr>\n",
       "    <tr>\n",
       "      <th>6998</th>\n",
       "      <td>34.916235</td>\n",
       "      <td>37.0</td>\n",
       "    </tr>\n",
       "    <tr>\n",
       "      <th>28525</th>\n",
       "      <td>25.358307</td>\n",
       "      <td>24.0</td>\n",
       "    </tr>\n",
       "    <tr>\n",
       "      <th>20333</th>\n",
       "      <td>12.306285</td>\n",
       "      <td>66.0</td>\n",
       "    </tr>\n",
       "    <tr>\n",
       "      <th>13915</th>\n",
       "      <td>22.826412</td>\n",
       "      <td>38.0</td>\n",
       "    </tr>\n",
       "    <tr>\n",
       "      <th>22674</th>\n",
       "      <td>35.073560</td>\n",
       "      <td>35.0</td>\n",
       "    </tr>\n",
       "  </tbody>\n",
       "</table>\n",
       "</div>"
      ],
      "text/plain": [
       "          actual  test\n",
       "15832  40.438334  38.0\n",
       "11877  16.589465  35.0\n",
       "11745  37.980685  42.0\n",
       "23614  53.932572  68.0\n",
       "6551   29.510963  28.0\n",
       "6998   34.916235  37.0\n",
       "28525  25.358307  24.0\n",
       "20333  12.306285  66.0\n",
       "13915  22.826412  38.0\n",
       "22674  35.073560  35.0"
      ]
     },
     "execution_count": 154,
     "metadata": {},
     "output_type": "execute_result"
    }
   ],
   "source": [
    "yhathat = est.predict(X_test.copy())\n",
    "print(yhathat[:10])\n",
    "print(y_test[:10])\n",
    "\n",
    "pd.DataFrame(data={'actual':yhathat[:10], 'test':y_test[:10]})\n"
   ]
  },
  {
   "cell_type": "code",
   "execution_count": null,
   "metadata": {
    "collapsed": true
   },
   "outputs": [],
   "source": []
  }
 ],
 "metadata": {
  "kernelspec": {
   "display_name": "Python 3",
   "language": "python",
   "name": "python3"
  },
  "language_info": {
   "codemirror_mode": {
    "name": "ipython",
    "version": 3
   },
   "file_extension": ".py",
   "mimetype": "text/x-python",
   "name": "python",
   "nbconvert_exporter": "python",
   "pygments_lexer": "ipython3",
   "version": "3.5.3"
  }
 },
 "nbformat": 4,
 "nbformat_minor": 2
}
